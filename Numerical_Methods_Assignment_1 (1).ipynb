{
 "cells": [
  {
   "cell_type": "markdown",
   "id": "5417346c",
   "metadata": {},
   "source": [
    "# Assignment#1\n",
    "\n",
    "**TASK#1 :** Explain each code in detail by adding comments in each line.\n",
    "\n",
    "**TASK#2 :** Compare the results of following questions with all methods and also plot the graphs of all functions.\n",
    "\n",
    "# Note :\n",
    "\n",
    "All codes are solved for your better understanding and as reference. You need to find the soltution of all\n",
    "\n",
    "problems and then compare the results by making a table. For example you can make a table in Excel sheet.  \n",
    "\n",
    "**Questions#1**\n",
    "\n",
    "Find the roots of the following cubic equation:<br>\n",
    "    $x^3-5x-9=0$\n",
    "\n",
    "Take Guess1 = 2 and Guess2 = 3\n",
    "\n",
    "**Question#2**\n",
    "\n",
    "Find the roots of the following cubic equation:<br>\n",
    "    $2x^3-9.5x+7.5=0$\n",
    "    \n",
    "take initial guess = 5 \n",
    "\n",
    "**Question#3**\n",
    "\n",
    "Find the root of the following equation:\n",
    "\n",
    "$x^2-sin^2(x)-4x+1=0$\n",
    "\n",
    "take guess1 = 0 and guess2 = 1\n",
    "\n",
    "**Question#4**\n",
    "    \n",
    "Find the roots of the following equation\n",
    "\n",
    "$2x^2 - 5x + 3 = 0$ \n",
    "\n",
    "take guess1 = -2 and guess2 = 2"
   ]
  },
  {
   "cell_type": "markdown",
   "id": "4e84277c",
   "metadata": {},
   "source": [
    "# Q 1- Bisection Method-Newton's Rupson Method-Fale Position Method-Secant Method"
   ]
  },
  {
   "cell_type": "code",
   "execution_count": 76,
   "id": "c7205eca",
   "metadata": {},
   "outputs": [
    {
     "name": "stdout",
     "output_type": "stream",
     "text": [
      "first guess: 2\n",
      "second guess: 3\n",
      "tolerance: 0.001\n",
      "iteration 1, x2 = 2.500000 and f(x2)= -5.875000\n",
      "iteration 2, x2 = 2.750000 and f(x2)= -1.953125\n",
      "iteration 3, x2 = 2.875000 and f(x2)= 0.388672\n",
      "iteration 4, x2 = 2.812500 and f(x2)= -0.815186\n",
      "iteration 5, x2 = 2.843750 and f(x2)= -0.221588\n",
      "iteration 6, x2 = 2.859375 and f(x2)= 0.081448\n",
      "iteration 7, x2 = 2.851562 and f(x2)= -0.070592\n",
      "iteration 8, x2 = 2.855469 and f(x2)= 0.005297\n",
      "iteration 9, x2 = 2.853516 and f(x2)= -0.032680\n",
      "iteration 10, x2 = 2.854492 and f(x2)= -0.013700\n",
      "iteration 11, x2 = 2.854980 and f(x2)= -0.004204\n",
      "iteration 12, x2 = 2.855225 and f(x2)= 0.000546\n",
      "root is :2.85522461 \n"
     ]
    }
   ],
   "source": [
    "# guess1 = 2, guess2 = 3  (Initial guess are taken so that the functional values have opposite signs)\n",
    "from math import sin\n",
    "def bisection(x0,x1,e):   # (definition of bisection is used)\n",
    "    step = 1\n",
    "    condition = True\n",
    "    while condition:\n",
    "        x2 = (x0+x1)/2   # (takes the midpoint mean root value)\n",
    "        print('iteration %d, x2 = %0.6f and f(x2)= %0.6f' %(step,x2,f(x2)))\n",
    "# if-else condition is used                            \n",
    "        if f(x0) * f(x2) < 0:  # (if f(x0) * f(x2) <0 then assign value of x2 to x1 )\n",
    "            x1 = x2\n",
    "        else:                  # (if f(x0) * f(x2) not <0 then assign value of x2 to x0 ))\n",
    "            x0 = x2\n",
    "        step = step +1\n",
    "        condition = abs(f(x2)) > e\n",
    "    print('root is :%0.8f '%x2)\n",
    "#    return x2\n",
    "\n",
    "def f(x):\n",
    "    return x**3-5*x-9               # function o b.f which the root is to be determined\n",
    "\n",
    "x0 = float(input('first guess: '))  # Take value of 1st guess as float variable which takes values as whole numbers or frictions\n",
    "x1 = float(input('second guess: ')) # Take value of 2nd guess as float variable which takes values as whole numbers or frictions\n",
    "e  = float(input('tolerance: '))    # checks error after each iteration\n",
    "if f(x0) * f(x1) > 0.0:\n",
    "    print('given guess values do not bracket the root') # This means root does not lie between these two initial guesses\n",
    "else: \n",
    "    root = bisection(x0,x1,e) # gives the required root\n",
    "    "
   ]
  },
  {
   "cell_type": "code",
   "execution_count": 77,
   "id": "3ba619e0",
   "metadata": {},
   "outputs": [
    {
     "name": "stdout",
     "output_type": "stream",
     "text": [
      "the root is 2.855 at 5 iterations.\n"
     ]
    }
   ],
   "source": [
    "from math import sin\n",
    "def newton(fn,dfn,x,tol,maxiter): # Definition of newton rophson method\n",
    "    for i in range(maxiter):      # takes initial guess as root\n",
    "        xnew = x - fn(x)/dfn(x)   # estimate the new root\n",
    "        if abs(xnew-x)<tol:       # break if condition is not satisfied                       \n",
    "            break\n",
    "        x = xnew                  # assign value of new root to the old\n",
    "    return xnew, i\n",
    "\n",
    "y = lambda x: x**3-5*x-9    # given function\n",
    "dy = lambda x : 3*x**2-5        # derivative of the function\n",
    "\n",
    "x, n = newton(y, dy, 5, 0.0001, 100) # equation takes derivative,5 as initial guess,0.0001 tollerence and perform maximum 100 iterations\n",
    "print('the root is %.3f at %d iterations.'%(x,n)) # prints the required root"
   ]
  },
  {
   "cell_type": "code",
   "execution_count": 81,
   "id": "38d02994",
   "metadata": {},
   "outputs": [
    {
     "name": "stdout",
     "output_type": "stream",
     "text": [
      "enter x1: 2\n",
      "enter x2: 3\n",
      "The root = 2.855197 at 7 false position\n"
     ]
    }
   ],
   "source": [
    "from math import sin\n",
    "def reg_falsi(f,x1,x2,tol=1.0e-6,maxfpos=100): # definition of regula false method\n",
    "    \n",
    "    if f(x1) * f(x2)<0: # checks the condition f(x1) * f(x2)<0 \n",
    "        for fpos in range(1,maxfpos+1):\n",
    "            xh = x2 - (x2-x1)/(f(x2)-f(x1)) * f(x2)  # extimate the root \n",
    "            if abs(f(xh)) < tol: # (if we meet the desired tollerence then break the loop)\n",
    "                break\n",
    "            elif f(x1) * f(xh) < 0: # (if f(x1)*f(xh)<0 then assign value of xh to x2)\n",
    "                x2 = xh\n",
    "            else:      # (if f(x1) * f(xh) not < 0 then assign value of xh to x1)\n",
    "                x1 = xh\n",
    "    else:\n",
    "        print('No roots exists within the given interval') # checks the condition, if f(x1) * f(x2) not <0 the it means root does not lie between these initial guesses\n",
    "        \n",
    "    return xh, fpos\n",
    "\n",
    "y = lambda x: x**3-5*x-9 # given function\n",
    "\n",
    "x1 = float(input('enter x1: ')) # takes first initial guess\n",
    "x2 = float(input('enter x2: ')) # takes second initial guess\n",
    "\n",
    "r, n = reg_falsi(y,x1,x2)\n",
    "print('The root = %f at %d false position'%(r,n)) # prints the required root"
   ]
  },
  {
   "cell_type": "code",
   "execution_count": 79,
   "id": "f40de3b7",
   "metadata": {},
   "outputs": [
    {
     "name": "stdout",
     "output_type": "stream",
     "text": [
      "enter x1: -2\n",
      "enter x2: 2\n",
      "Root = 2.855197 at 8 iterations\n"
     ]
    }
   ],
   "source": [
    "from math import sin\n",
    "def secant(fn,x1,x2,tol,maxiter): # definition of Secant method\n",
    "    for i in range(maxiter):\n",
    "        xnew  = x2 - (x2-x1)/(fn(x2)-fn(x1))*fn(x2) # extimate the root\n",
    "        if abs(xnew-x2) < tol: # checks the tollenrence\n",
    "            break\n",
    "        else:\n",
    "            x1 = x2   # assigns value of x2 to x1\n",
    "            x2 = xnew # assign the value of estimated root to x2\n",
    "    else:\n",
    "        print('warning: Maximum number of iterations is reached') # if excedes tha maximum number of iteration then this error will appear\n",
    "    return xnew, i # returns the value of estimated root\n",
    "\n",
    "f = lambda x: x**3-5*x-9  # given function\n",
    "\n",
    "x1 = float(input('enter x1: ')) # takes first initial guess\n",
    "x2 = float(input('enter x2: ')) # takes second initial guess\n",
    "\n",
    "r, n = secant(f,x1,x2,1.0e-6,100) # function,takes initial guesses x1 and x2,sets tollerence 10^-6 and perform a\n",
    "print('Root = %f at %d iterations'%(r,n)) # prints the requird root"
   ]
  },
  {
   "cell_type": "code",
   "execution_count": 64,
   "id": "566bba5a",
   "metadata": {},
   "outputs": [
    {
     "data": {
      "text/plain": [
       "Text(0, 0.5, 'y-axis')"
      ]
     },
     "execution_count": 64,
     "metadata": {},
     "output_type": "execute_result"
    },
    {
     "data": {
      "image/png": "[encoded data removed]",
      "text/plain": [
       "<Figure size 432x288 with 1 Axes>"
      ]
     },
     "metadata": {
      "needs_background": "light"
     },
     "output_type": "display_data"
    }
   ],
   "source": [
    "import numpy as np \n",
    "import matplotlib.pyplot as plt\n",
    "x = np.linspace(0,9,20)\n",
    "y=x**3-5*x-9\n",
    "plt.plot(x,y)\n",
    "plt.grid()\n",
    "plt.xlabel('x-axis')\n",
    "plt.ylabel('y-axis')\n",
    "plt.xlabel('x-axis',fontsize=12)\n",
    "plt.ylabel('y-axis',fontsize=12)\n"
   ]
  },
  {
   "cell_type": "markdown",
   "id": "62b894b3",
   "metadata": {},
   "source": [
    "# Q 2- Bisection Method-Newton's Rupson Method-Fale Position Method-Secant Method"
   ]
  },
  {
   "cell_type": "code",
   "execution_count": 82,
   "id": "f2729065",
   "metadata": {
    "collapsed": true
   },
   "outputs": [
    {
     "name": "stdout",
     "output_type": "stream",
     "text": [
      "first guess: 5\n",
      "second guess: 6\n",
      "tolerance: 0.001\n",
      "given guess values do not bracket the root\n"
     ]
    }
   ],
   "source": [
    "# guess1 = 2, guess2 = 3  (Initial guess are taken so that the functional values have opposite signs)\n",
    "from math import sin\n",
    "def bisection(x0,x1,e):   # (definition of bisection is used)\n",
    "    step = 1\n",
    "    condition = True\n",
    "    while condition:\n",
    "        x2 = (x0+x1)/2   # (takes the midpoint mean root value)\n",
    "        print('iteration %d, x2 = %0.6f and f(x2)= %0.6f' %(step,x2,f(x2)))\n",
    "# if-else condition is used                            \n",
    "        if f(x0) * f(x2) < 0:  # (if f(x0) * f(x2) <0 then assign value of x2 to x1 )\n",
    "            x1 = x2\n",
    "        else:                  # (if f(x0) * f(x2) not <0 then assign value of x2 to x0 ))\n",
    "            x0 = x2\n",
    "        step = step +1\n",
    "        condition = abs(f(x2)) > e\n",
    "    print('root is :%0.8f '%x2)\n",
    "#    return x2\n",
    "\n",
    "def f(x):\n",
    "    return 2*x**3-9.5*x+7.5                # function of which the root is to be determined\n",
    "\n",
    "x0 = float(input('first guess: '))  # Take value of 1st guess as float variable which takes values as whole numbers or frictions\n",
    "x1 = float(input('second guess: ')) # Take value of 2nd guess as float variable which takes values as whole numbers or frictions\n",
    "e  = float(input('tolerance: '))    # checks error after each iteration\n",
    "if f(x0) * f(x1) > 0.0:\n",
    "    print('given guess values do not bracket the root') # This means root does not lie between these two initial guesses\n",
    "else: \n",
    "    root = bisection(x0,x1,e) # gives the required root\n",
    "    "
   ]
  },
  {
   "cell_type": "code",
   "execution_count": null,
   "id": "5a0cc29b",
   "metadata": {},
   "outputs": [],
   "source": [
    "Only 1 initial guess is given. To compute root by Bisection method we need 2 initial guess."
   ]
  },
  {
   "cell_type": "code",
   "execution_count": 2,
   "id": "5040dac2",
   "metadata": {},
   "outputs": [
    {
     "name": "stdout",
     "output_type": "stream",
     "text": [
      "the root is 1.500 at 7 iterations.\n"
     ]
    }
   ],
   "source": [
    "from math import sin\n",
    "def newton(fn,dfn,x,tol,maxiter): # Definition of newton rophson method\n",
    "    for i in range(maxiter):      # takes initial guess as root\n",
    "        xnew = x - fn(x)/dfn(x)   # estimate the new root\n",
    "        if abs(xnew-x)<tol:       # break if condition is not satisfied                       \n",
    "            break\n",
    "        x = xnew                  # assign value of new root to the old\n",
    "    return xnew, i\n",
    "\n",
    "y = lambda x: 2*x**3-9.5*x+7.5    # given function\n",
    "dy = lambda x : 6*x**2-9.5        # derivative of the function\n",
    "\n",
    "x, n = newton(y, dy, 5, 0.0001, 100) # equation takes derivative,5 as initial guess,0.0001 tollerence and perform maximum 100 iterations\n",
    "print('the root is %.3f at %d iterations.'%(x,n)) # prints the required root"
   ]
  },
  {
   "cell_type": "code",
   "execution_count": null,
   "id": "3b8aada0",
   "metadata": {},
   "outputs": [],
   "source": [
    "from math import sin\n",
    "def reg_falsi(f,x1,x2,tol=1.0e-6,maxfpos=100): # definition of regula false method\n",
    "    \n",
    "    if f(x1) * f(x2)<0: # checks the condition f(x1) * f(x2)<0 \n",
    "        for fpos in range(1,maxfpos+1):\n",
    "            xh = x2 - (x2-x1)/(f(x2)-f(x1)) * f(x2)  # extimate the root \n",
    "            if abs(f(xh)) < tol: # (if we meet the desired tollerence then break the loop)\n",
    "                break\n",
    "            elif f(x1) * f(xh) < 0: # (if f(x1)*f(xh)<0 then assign value of xh to x2)\n",
    "                x2 = xh\n",
    "            else:      # (if f(x1) * f(xh) not < 0 then assign value of xh to x1)\n",
    "                x1 = xh\n",
    "    else:\n",
    "        print('No roots exists within the given interval') # checks the condition, if f(x1) * f(x2) not <0 the it means root does not lie between these initial guesses\n",
    "        \n",
    "    return xh, fpos\n",
    "\n",
    "y = lambda x: 2*x**3-9.5*x+7.5  # given function\n",
    "\n",
    "x1 = float(input('enter x1: ')) # takes first initial guess\n",
    "x2 = float(input('enter x2: ')) # takes second initial guess\n",
    "\n",
    "r, n = reg_falsi(y,x1,x2)\n",
    "print('The root = %f at %d false position'%(r,n)) # prints the required root"
   ]
  },
  {
   "cell_type": "code",
   "execution_count": null,
   "id": "47295e86",
   "metadata": {},
   "outputs": [],
   "source": [
    "Only 1 initial guess is given. To compute root by False Position method we need 2 initial guess."
   ]
  },
  {
   "cell_type": "code",
   "execution_count": null,
   "id": "525503c4",
   "metadata": {},
   "outputs": [],
   "source": [
    "from math import sin\n",
    "def secant(fn,x1,x2,tol,maxiter): # definition of Secant method\n",
    "    for i in range(maxiter):\n",
    "        xnew  = x2 - (x2-x1)/(fn(x2)-fn(x1))*fn(x2) # extimate the root\n",
    "        if abs(xnew-x2) < tol: # checks the tollenrence\n",
    "            break\n",
    "        else:\n",
    "            x1 = x2   # assigns value of x2 to x1\n",
    "            x2 = xnew # assign the value of estimated root to x2\n",
    "    else:\n",
    "        print('warning: Maximum number of iterations is reached') # if excedes tha maximum number of iteration then this error will appear\n",
    "    return xnew, i # returns the value of estimated root\n",
    "\n",
    "f = lambda x: 2*x**3-9.5*x+7.5   # given function\n",
    "\n",
    "x1 = float(input('enter x1: ')) # takes first initial guess\n",
    "x2 = float(input('enter x2: ')) # takes second initial guess\n",
    "\n",
    "r, n = secant(f,x1,x2,1.0e-6,100) # function,takes initial guesses x1 and x2,sets tollerence 10^-6 and perform a\n",
    "print('Root = %f at %d iterations'%(r,n)) # prints the requird root"
   ]
  },
  {
   "cell_type": "code",
   "execution_count": null,
   "id": "83e96d45",
   "metadata": {},
   "outputs": [],
   "source": [
    "Only 1 initial guess is given. To compute root by Secant method we need 2 initial guess."
   ]
  },
  {
   "cell_type": "code",
   "execution_count": 65,
   "id": "9558eb23",
   "metadata": {},
   "outputs": [
    {
     "data": {
      "text/plain": [
       "Text(0, 0.5, 'y-axis')"
      ]
     },
     "execution_count": 65,
     "metadata": {},
     "output_type": "execute_result"
    },
    {
     "data": {
      "image/png": "[encoded data removed]",
      "text/plain": [
       "<Figure size 432x288 with 1 Axes>"
      ]
     },
     "metadata": {
      "needs_background": "light"
     },
     "output_type": "display_data"
    }
   ],
   "source": [
    "import numpy as np \n",
    "import matplotlib.pyplot as plt\n",
    "x = np.linspace(0,9,20)\n",
    "y= 2*x**3-9.5*x+7.5\n",
    "plt.plot(x,y)\n",
    "plt.grid()\n",
    "plt.xlabel('x-axis')\n",
    "plt.ylabel('y-axis')\n",
    "plt.xlabel('x-axis',fontsize=12)\n",
    "plt.ylabel('y-axis',fontsize=12)\n"
   ]
  },
  {
   "cell_type": "markdown",
   "id": "55eeed2c",
   "metadata": {},
   "source": [
    "# Q 3- Bisection Method-Newton's Rupson Method-Fale Position Method-Secant Method"
   ]
  },
  {
   "cell_type": "code",
   "execution_count": 84,
   "id": "5679a566",
   "metadata": {},
   "outputs": [
    {
     "name": "stdout",
     "output_type": "stream",
     "text": [
      "first guess: 0\n",
      "second guess: 1\n",
      "tolerance: 0.001\n",
      "iteration 1, x2 = 0.500000 and f(x2)= -0.979849\n",
      "iteration 2, x2 = 0.250000 and f(x2)= 0.001291\n",
      "iteration 3, x2 = 0.375000 and f(x2)= -0.493531\n",
      "iteration 4, x2 = 0.312500 and f(x2)= -0.246862\n",
      "iteration 5, x2 = 0.281250 and f(x2)= -0.122936\n",
      "iteration 6, x2 = 0.265625 and f(x2)= -0.060856\n",
      "iteration 7, x2 = 0.257812 and f(x2)= -0.029790\n",
      "iteration 8, x2 = 0.253906 and f(x2)= -0.014251\n",
      "iteration 9, x2 = 0.251953 and f(x2)= -0.006481\n",
      "iteration 10, x2 = 0.250977 and f(x2)= -0.002595\n",
      "iteration 11, x2 = 0.250488 and f(x2)= -0.000652\n",
      "root is :0.25048828 \n"
     ]
    }
   ],
   "source": [
    "# guess1 = 2, guess2 = 3  (Initial guess are taken so that the functional values have opposite signs)\n",
    "from math import sin\n",
    "def bisection(x0,x1,e):   # (definition of bisection is used)\n",
    "    step = 1\n",
    "    condition = True\n",
    "    while condition:\n",
    "        x2 = (x0+x1)/2   # (takes the midpoint mean root value)\n",
    "        print('iteration %d, x2 = %0.6f and f(x2)= %0.6f' %(step,x2,f(x2)))\n",
    "# if-else condition is used                            \n",
    "        if f(x0) * f(x2) < 0:  # (if f(x0) * f(x2) <0 then assign value of x2 to x1 )\n",
    "            x1 = x2\n",
    "        else:                  # (if f(x0) * f(x2) not <0 then assign value of x2 to x0 ))\n",
    "            x0 = x2\n",
    "        step = step +1\n",
    "        condition = abs(f(x2)) > e\n",
    "    print('root is :%0.8f '%x2)\n",
    "#    return x2\n",
    "\n",
    "def f(x):\n",
    "    return x**2 - sin(x)**2 - 4*x + 1               # function of which the root is to be determined\n",
    "\n",
    "x0 = float(input('first guess: '))  # Take value of 1st guess as float variable which takes values as whole numbers or frictions\n",
    "x1 = float(input('second guess: ')) # Take value of 2nd guess as float variable which takes values as whole numbers or frictions\n",
    "e  = float(input('tolerance: '))    # checks error after each iteration\n",
    "if f(x0) * f(x1) > 0.0:\n",
    "    print('given guess values do not bracket the root') # This means root does not lie between these two initial guesses\n",
    "else: \n",
    "    root = bisection(x0,x1,e) # gives the required root\n",
    "    "
   ]
  },
  {
   "cell_type": "code",
   "execution_count": 85,
   "id": "9952176f",
   "metadata": {},
   "outputs": [
    {
     "ename": "NameError",
     "evalue": "name 'cos' is not defined",
     "output_type": "error",
     "traceback": [
      "\u001b[1;31m---------------------------------------------------------------------------\u001b[0m",
      "\u001b[1;31mNameError\u001b[0m                                 Traceback (most recent call last)",
      "\u001b[1;32m~\\AppData\\Local\\Temp/ipykernel_3908/3834161554.py\u001b[0m in \u001b[0;36m<module>\u001b[1;34m\u001b[0m\n\u001b[0;32m     11\u001b[0m \u001b[0mdy\u001b[0m \u001b[1;33m=\u001b[0m \u001b[1;32mlambda\u001b[0m \u001b[0mx\u001b[0m \u001b[1;33m:\u001b[0m \u001b[1;36m2\u001b[0m\u001b[1;33m*\u001b[0m\u001b[0mx\u001b[0m\u001b[1;33m-\u001b[0m\u001b[1;36m2\u001b[0m\u001b[1;33m*\u001b[0m\u001b[0msin\u001b[0m\u001b[1;33m(\u001b[0m\u001b[0mx\u001b[0m\u001b[1;33m)\u001b[0m\u001b[1;33m*\u001b[0m\u001b[0mcos\u001b[0m\u001b[1;33m(\u001b[0m\u001b[0mx\u001b[0m\u001b[1;33m)\u001b[0m\u001b[1;33m-\u001b[0m\u001b[1;36m4\u001b[0m        \u001b[1;31m# derivative of the equation\u001b[0m\u001b[1;33m\u001b[0m\u001b[1;33m\u001b[0m\u001b[0m\n\u001b[0;32m     12\u001b[0m \u001b[1;33m\u001b[0m\u001b[0m\n\u001b[1;32m---> 13\u001b[1;33m \u001b[0mx\u001b[0m\u001b[1;33m,\u001b[0m \u001b[0mn\u001b[0m \u001b[1;33m=\u001b[0m \u001b[0mnewton\u001b[0m\u001b[1;33m(\u001b[0m\u001b[0my\u001b[0m\u001b[1;33m,\u001b[0m \u001b[0mdy\u001b[0m\u001b[1;33m,\u001b[0m \u001b[1;36m5\u001b[0m\u001b[1;33m,\u001b[0m \u001b[1;36m0.0001\u001b[0m\u001b[1;33m,\u001b[0m \u001b[1;36m100\u001b[0m\u001b[1;33m)\u001b[0m \u001b[1;31m# equation takes derivative,5 as initial guess,0.0001 tollerence and perform maximum 100 iterations\u001b[0m\u001b[1;33m\u001b[0m\u001b[1;33m\u001b[0m\u001b[0m\n\u001b[0m\u001b[0;32m     14\u001b[0m \u001b[0mprint\u001b[0m\u001b[1;33m(\u001b[0m\u001b[1;34m'the root is %.3f at %d iterations.'\u001b[0m\u001b[1;33m%\u001b[0m\u001b[1;33m(\u001b[0m\u001b[0mx\u001b[0m\u001b[1;33m,\u001b[0m\u001b[0mn\u001b[0m\u001b[1;33m)\u001b[0m\u001b[1;33m)\u001b[0m \u001b[1;31m# prints the required root\u001b[0m\u001b[1;33m\u001b[0m\u001b[1;33m\u001b[0m\u001b[0m\n",
      "\u001b[1;32m~\\AppData\\Local\\Temp/ipykernel_3908/3834161554.py\u001b[0m in \u001b[0;36mnewton\u001b[1;34m(fn, dfn, x, tol, maxiter)\u001b[0m\n\u001b[0;32m      2\u001b[0m \u001b[1;32mdef\u001b[0m \u001b[0mnewton\u001b[0m\u001b[1;33m(\u001b[0m\u001b[0mfn\u001b[0m\u001b[1;33m,\u001b[0m\u001b[0mdfn\u001b[0m\u001b[1;33m,\u001b[0m\u001b[0mx\u001b[0m\u001b[1;33m,\u001b[0m\u001b[0mtol\u001b[0m\u001b[1;33m,\u001b[0m\u001b[0mmaxiter\u001b[0m\u001b[1;33m)\u001b[0m\u001b[1;33m:\u001b[0m \u001b[1;31m# Definition of newton rophson method\u001b[0m\u001b[1;33m\u001b[0m\u001b[1;33m\u001b[0m\u001b[0m\n\u001b[0;32m      3\u001b[0m     \u001b[1;32mfor\u001b[0m \u001b[0mi\u001b[0m \u001b[1;32min\u001b[0m \u001b[0mrange\u001b[0m\u001b[1;33m(\u001b[0m\u001b[0mmaxiter\u001b[0m\u001b[1;33m)\u001b[0m\u001b[1;33m:\u001b[0m      \u001b[1;31m# takes initial guess as root\u001b[0m\u001b[1;33m\u001b[0m\u001b[1;33m\u001b[0m\u001b[0m\n\u001b[1;32m----> 4\u001b[1;33m         \u001b[0mxnew\u001b[0m \u001b[1;33m=\u001b[0m \u001b[0mx\u001b[0m \u001b[1;33m-\u001b[0m \u001b[0mfn\u001b[0m\u001b[1;33m(\u001b[0m\u001b[0mx\u001b[0m\u001b[1;33m)\u001b[0m\u001b[1;33m/\u001b[0m\u001b[0mdfn\u001b[0m\u001b[1;33m(\u001b[0m\u001b[0mx\u001b[0m\u001b[1;33m)\u001b[0m   \u001b[1;31m# estimate the new root\u001b[0m\u001b[1;33m\u001b[0m\u001b[1;33m\u001b[0m\u001b[0m\n\u001b[0m\u001b[0;32m      5\u001b[0m         \u001b[1;32mif\u001b[0m \u001b[0mabs\u001b[0m\u001b[1;33m(\u001b[0m\u001b[0mxnew\u001b[0m\u001b[1;33m-\u001b[0m\u001b[0mx\u001b[0m\u001b[1;33m)\u001b[0m\u001b[1;33m<\u001b[0m\u001b[0mtol\u001b[0m\u001b[1;33m:\u001b[0m       \u001b[1;31m# break if condition is not satisfied\u001b[0m\u001b[1;33m\u001b[0m\u001b[1;33m\u001b[0m\u001b[0m\n\u001b[0;32m      6\u001b[0m             \u001b[1;32mbreak\u001b[0m\u001b[1;33m\u001b[0m\u001b[1;33m\u001b[0m\u001b[0m\n",
      "\u001b[1;32m~\\AppData\\Local\\Temp/ipykernel_3908/3834161554.py\u001b[0m in \u001b[0;36m<lambda>\u001b[1;34m(x)\u001b[0m\n\u001b[0;32m      9\u001b[0m \u001b[1;33m\u001b[0m\u001b[0m\n\u001b[0;32m     10\u001b[0m \u001b[0my\u001b[0m \u001b[1;33m=\u001b[0m \u001b[1;32mlambda\u001b[0m \u001b[0mx\u001b[0m\u001b[1;33m:\u001b[0m \u001b[0mx\u001b[0m\u001b[1;33m**\u001b[0m\u001b[1;36m2\u001b[0m \u001b[1;33m-\u001b[0m \u001b[0msin\u001b[0m\u001b[1;33m(\u001b[0m\u001b[0mx\u001b[0m\u001b[1;33m)\u001b[0m\u001b[1;33m**\u001b[0m\u001b[1;36m2\u001b[0m \u001b[1;33m-\u001b[0m \u001b[1;36m4\u001b[0m\u001b[1;33m*\u001b[0m\u001b[0mx\u001b[0m \u001b[1;33m+\u001b[0m \u001b[1;36m1\u001b[0m    \u001b[1;31m# given equation\u001b[0m\u001b[1;33m\u001b[0m\u001b[1;33m\u001b[0m\u001b[0m\n\u001b[1;32m---> 11\u001b[1;33m \u001b[0mdy\u001b[0m \u001b[1;33m=\u001b[0m \u001b[1;32mlambda\u001b[0m \u001b[0mx\u001b[0m \u001b[1;33m:\u001b[0m \u001b[1;36m2\u001b[0m\u001b[1;33m*\u001b[0m\u001b[0mx\u001b[0m\u001b[1;33m-\u001b[0m\u001b[1;36m2\u001b[0m\u001b[1;33m*\u001b[0m\u001b[0msin\u001b[0m\u001b[1;33m(\u001b[0m\u001b[0mx\u001b[0m\u001b[1;33m)\u001b[0m\u001b[1;33m*\u001b[0m\u001b[0mcos\u001b[0m\u001b[1;33m(\u001b[0m\u001b[0mx\u001b[0m\u001b[1;33m)\u001b[0m\u001b[1;33m-\u001b[0m\u001b[1;36m4\u001b[0m        \u001b[1;31m# derivative of the equation\u001b[0m\u001b[1;33m\u001b[0m\u001b[1;33m\u001b[0m\u001b[0m\n\u001b[0m\u001b[0;32m     12\u001b[0m \u001b[1;33m\u001b[0m\u001b[0m\n\u001b[0;32m     13\u001b[0m \u001b[0mx\u001b[0m\u001b[1;33m,\u001b[0m \u001b[0mn\u001b[0m \u001b[1;33m=\u001b[0m \u001b[0mnewton\u001b[0m\u001b[1;33m(\u001b[0m\u001b[0my\u001b[0m\u001b[1;33m,\u001b[0m \u001b[0mdy\u001b[0m\u001b[1;33m,\u001b[0m \u001b[1;36m5\u001b[0m\u001b[1;33m,\u001b[0m \u001b[1;36m0.0001\u001b[0m\u001b[1;33m,\u001b[0m \u001b[1;36m100\u001b[0m\u001b[1;33m)\u001b[0m \u001b[1;31m# equation takes derivative,5 as initial guess,0.0001 tollerence and perform maximum 100 iterations\u001b[0m\u001b[1;33m\u001b[0m\u001b[1;33m\u001b[0m\u001b[0m\n",
      "\u001b[1;31mNameError\u001b[0m: name 'cos' is not defined"
     ]
    }
   ],
   "source": [
    "from math import sin\n",
    "def newton(fn,dfn,x,tol,maxiter): # Definition of newton rophson method\n",
    "    for i in range(maxiter):      # takes initial guess as root\n",
    "        xnew = x - fn(x)/dfn(x)   # estimate the new root\n",
    "        if abs(xnew-x)<tol:       # break if condition is not satisfied                       \n",
    "            break\n",
    "        x = xnew                  # assign value of new root to the old\n",
    "    return xnew, i\n",
    "\n",
    "y = lambda x: x**2 - sin(x)**2 - 4*x + 1    # given function\n",
    "dy = lambda x : 2*x-2*sin(x)*cos(x)-4        # derivative of the function\n",
    "\n",
    "x, n = newton(y, dy, 5, 0.0001, 100) # equation takes derivative,5 as initial guess,0.0001 tollerence and perform maximum 100 iterations\n",
    "print('the root is %.3f at %d iterations.'%(x,n)) # prints the required root"
   ]
  },
  {
   "cell_type": "code",
   "execution_count": 86,
   "id": "3ffb58ec",
   "metadata": {},
   "outputs": [
    {
     "name": "stdout",
     "output_type": "stream",
     "text": [
      "enter x1: 0\n",
      "enter x2: 1\n",
      "The root = 0.250324 at 4 false position\n"
     ]
    }
   ],
   "source": [
    "from math import sin\n",
    "def reg_falsi(f,x1,x2,tol=1.0e-6,maxfpos=100): # definition of regula false method\n",
    "    \n",
    "    if f(x1) * f(x2)<0: # checks the condition f(x1) * f(x2)<0 \n",
    "        for fpos in range(1,maxfpos+1):\n",
    "            xh = x2 - (x2-x1)/(f(x2)-f(x1)) * f(x2)  # extimate the root \n",
    "            if abs(f(xh)) < tol: # (if we meet the desired tollerence then break the loop)\n",
    "                break\n",
    "            elif f(x1) * f(xh) < 0: # (if f(x1)*f(xh)<0 then assign value of xh to x2)\n",
    "                x2 = xh\n",
    "            else:      # (if f(x1) * f(xh) not < 0 then assign value of xh to x1)\n",
    "                x1 = xh\n",
    "    else:\n",
    "        print('No roots exists within the given interval') # checks the condition, if f(x1) * f(x2) not <0 the it means root does not lie between these initial guesses\n",
    "        \n",
    "    return xh, fpos\n",
    "\n",
    "y = lambda x: x**2 - sin(x)**2 - 4*x + 1 # given function\n",
    "\n",
    "x1 = float(input('enter x1: ')) # takes first initial guess\n",
    "x2 = float(input('enter x2: ')) # takes second initial guess\n",
    "\n",
    "r, n = reg_falsi(y,x1,x2)\n",
    "print('The root = %f at %d false position'%(r,n)) # prints the required root"
   ]
  },
  {
   "cell_type": "code",
   "execution_count": 87,
   "id": "061e159c",
   "metadata": {},
   "outputs": [
    {
     "name": "stdout",
     "output_type": "stream",
     "text": [
      "enter x1: 0\n",
      "enter x2: 1\n",
      "Root = 0.250324 at 4 iterations\n"
     ]
    }
   ],
   "source": [
    "from math import sin\n",
    "def secant(fn,x1,x2,tol,maxiter): # definition of Secant method\n",
    "    for i in range(maxiter):\n",
    "        xnew  = x2 - (x2-x1)/(fn(x2)-fn(x1))*fn(x2) # extimate the root\n",
    "        if abs(xnew-x2) < tol: # checks the tollenrence\n",
    "            break\n",
    "        else:\n",
    "            x1 = x2   # assigns value of x2 to x1\n",
    "            x2 = xnew # assign the value of estimated root to x2\n",
    "    else:\n",
    "        print('warning: Maximum number of iterations is reached') # if excedes tha maximum number of iteration then this error will appear\n",
    "    return xnew, i # returns the value of estimated root\n",
    "\n",
    "f = lambda x: x**2 - sin(x)**2 - 4*x + 1  # given function\n",
    "\n",
    "x1 = float(input('enter x1: ')) # takes first initial guess\n",
    "x2 = float(input('enter x2: ')) # takes second initial guess\n",
    "\n",
    "r, n = secant(f,x1,x2,1.0e-6,100) # function,takes initial guesses x1 and x2,sets tollerence 10^-6 and perform a\n",
    "print('Root = %f at %d iterations'%(r,n)) # prints the requird root"
   ]
  },
  {
   "cell_type": "code",
   "execution_count": 75,
   "id": "bc2f04df",
   "metadata": {},
   "outputs": [
    {
     "ename": "TypeError",
     "evalue": "only size-1 arrays can be converted to Python scalars",
     "output_type": "error",
     "traceback": [
      "\u001b[1;31m---------------------------------------------------------------------------\u001b[0m",
      "\u001b[1;31mTypeError\u001b[0m                                 Traceback (most recent call last)",
      "\u001b[1;32m~\\AppData\\Local\\Temp/ipykernel_3908/3119227027.py\u001b[0m in \u001b[0;36m<module>\u001b[1;34m\u001b[0m\n\u001b[0;32m      2\u001b[0m \u001b[1;32mimport\u001b[0m \u001b[0mmatplotlib\u001b[0m\u001b[1;33m.\u001b[0m\u001b[0mpyplot\u001b[0m \u001b[1;32mas\u001b[0m \u001b[0mplt\u001b[0m\u001b[1;33m\u001b[0m\u001b[1;33m\u001b[0m\u001b[0m\n\u001b[0;32m      3\u001b[0m \u001b[0mx\u001b[0m \u001b[1;33m=\u001b[0m \u001b[0mnp\u001b[0m\u001b[1;33m.\u001b[0m\u001b[0mlinspace\u001b[0m\u001b[1;33m(\u001b[0m\u001b[1;36m0\u001b[0m\u001b[1;33m,\u001b[0m\u001b[1;36m9\u001b[0m\u001b[1;33m,\u001b[0m\u001b[1;36m10\u001b[0m\u001b[1;33m)\u001b[0m\u001b[1;33m\u001b[0m\u001b[1;33m\u001b[0m\u001b[0m\n\u001b[1;32m----> 4\u001b[1;33m \u001b[0my\u001b[0m\u001b[1;33m=\u001b[0m \u001b[0mx\u001b[0m\u001b[1;33m**\u001b[0m\u001b[1;36m2\u001b[0m \u001b[1;33m-\u001b[0m\u001b[0msin\u001b[0m\u001b[1;33m(\u001b[0m\u001b[0mx\u001b[0m\u001b[1;33m)\u001b[0m\u001b[1;33m**\u001b[0m\u001b[1;36m2\u001b[0m \u001b[1;33m-\u001b[0m \u001b[1;36m4\u001b[0m\u001b[1;33m*\u001b[0m\u001b[0mx\u001b[0m \u001b[1;33m+\u001b[0m \u001b[1;36m1\u001b[0m\u001b[1;33m\u001b[0m\u001b[1;33m\u001b[0m\u001b[0m\n\u001b[0m\u001b[0;32m      5\u001b[0m \u001b[0mplt\u001b[0m\u001b[1;33m.\u001b[0m\u001b[0mplot\u001b[0m\u001b[1;33m(\u001b[0m\u001b[0mx\u001b[0m\u001b[1;33m,\u001b[0m\u001b[0my\u001b[0m\u001b[1;33m)\u001b[0m\u001b[1;33m\u001b[0m\u001b[1;33m\u001b[0m\u001b[0m\n\u001b[0;32m      6\u001b[0m \u001b[0mplt\u001b[0m\u001b[1;33m.\u001b[0m\u001b[0mgrid\u001b[0m\u001b[1;33m(\u001b[0m\u001b[1;33m)\u001b[0m\u001b[1;33m\u001b[0m\u001b[1;33m\u001b[0m\u001b[0m\n",
      "\u001b[1;31mTypeError\u001b[0m: only size-1 arrays can be converted to Python scalars"
     ]
    }
   ],
   "source": [
    "import numpy as np \n",
    "import matplotlib.pyplot as plt\n",
    "x = np.linspace(0,9,10)\n",
    "y= x**2 -sin(x)**2 - 4*x + 1\n",
    "plt.plot(x,y)\n",
    "plt.grid()\n",
    "plt.xlabel('x-axis')\n",
    "plt.ylabel('y-axis')\n",
    "plt.xlabel('x-axis',fontsize=12)\n",
    "plt.ylabel('y-axis',fontsize=12)"
   ]
  },
  {
   "cell_type": "markdown",
   "id": "170cac1e",
   "metadata": {},
   "source": [
    "# Q 4- Bisection Method-Newton's Rupson Method-Fale Position Method-Secant Method"
   ]
  },
  {
   "cell_type": "code",
   "execution_count": 88,
   "id": "0eec3ab6",
   "metadata": {},
   "outputs": [
    {
     "name": "stdout",
     "output_type": "stream",
     "text": [
      "first guess: -2\n",
      "second guess: 2\n",
      "tolerance: 0.001\n",
      "given guess values do not bracket the root\n"
     ]
    }
   ],
   "source": [
    "# guess1 = 2, guess2 = 3  (Initial guess are taken so that the functional values have opposite signs)\n",
    "from math import sin\n",
    "def bisection(x0,x1,e):   # (definition of bisection is used)\n",
    "    step = 1\n",
    "    condition = True\n",
    "    while condition:\n",
    "        x2 = (x0+x1)/2   # (takes the midpoint mean root value)\n",
    "        print('iteration %d, x2 = %0.6f and f(x2)= %0.6f' %(step,x2,f(x2)))\n",
    "# if-else condition is used                            \n",
    "        if f(x0) * f(x2) < 0:  # (if f(x0) * f(x2) <0 then assign value of x2 to x1 )\n",
    "            x1 = x2\n",
    "        else:                  # (if f(x0) * f(x2) not <0 then assign value of x2 to x0 ))\n",
    "            x0 = x2\n",
    "        step = step +1\n",
    "        condition = abs(f(x2)) > e\n",
    "    print('root is :%0.8f '%x2)\n",
    "#    return x2\n",
    "\n",
    "def f(x):\n",
    "    return 2*x**2 - 5*x + 3               # function of which the root is to be determined\n",
    "\n",
    "x0 = float(input('first guess: '))  # Take value of 1st guess as float variable which takes values as whole numbers or frictions\n",
    "x1 = float(input('second guess: ')) # Take value of 2nd guess as float variable which takes values as whole numbers or frictions\n",
    "e  = float(input('tolerance: '))    # checks error after each iteration\n",
    "if f(x0) * f(x1) > 0.0:\n",
    "    print('given guess values do not bracket the root') # This means root does not lie between these two initial guesses\n",
    "else: \n",
    "    root = bisection(x0,x1,e) # gives the required root\n",
    "    "
   ]
  },
  {
   "cell_type": "code",
   "execution_count": 89,
   "id": "d171c1fe",
   "metadata": {},
   "outputs": [
    {
     "name": "stdout",
     "output_type": "stream",
     "text": [
      "the root is 1.500 at 6 iterations.\n"
     ]
    }
   ],
   "source": [
    "from math import sin\n",
    "def newton(fn,dfn,x,tol,maxiter): # Definition of newton rophson method\n",
    "    for i in range(maxiter):      # takes initial guess as root\n",
    "        xnew = x - fn(x)/dfn(x)   # estimate the new root\n",
    "        if abs(xnew-x)<tol:       # break if condition is not satisfied                       \n",
    "            break\n",
    "        x = xnew                  # assign value of new root to the old\n",
    "    return xnew, i\n",
    "\n",
    "y = lambda x: 2*x**2 - 5*x + 3   # given function\n",
    "dy = lambda x : 4*x-5        # derivative of the function\n",
    "\n",
    "x, n = newton(y, dy, 5, 0.0001, 100) # equation takes derivative,5 as initial guess,0.0001 tollerence and perform maximum 100 iterations\n",
    "print('the root is %.3f at %d iterations.'%(x,n)) # prints the required root"
   ]
  },
  {
   "cell_type": "code",
   "execution_count": 2,
   "id": "970a8a05",
   "metadata": {},
   "outputs": [
    {
     "name": "stdout",
     "output_type": "stream",
     "text": [
      "enter x1: -2\n",
      "enter x2: 2\n",
      "No roots exists within the given interval\n"
     ]
    },
    {
     "ename": "UnboundLocalError",
     "evalue": "local variable 'xh' referenced before assignment",
     "output_type": "error",
     "traceback": [
      "\u001b[1;31m---------------------------------------------------------------------------\u001b[0m",
      "\u001b[1;31mUnboundLocalError\u001b[0m                         Traceback (most recent call last)",
      "\u001b[1;32m~\\AppData\\Local\\Temp/ipykernel_6824/118358493.py\u001b[0m in \u001b[0;36m<module>\u001b[1;34m\u001b[0m\n\u001b[0;32m     21\u001b[0m \u001b[0mx2\u001b[0m \u001b[1;33m=\u001b[0m \u001b[0mfloat\u001b[0m\u001b[1;33m(\u001b[0m\u001b[0minput\u001b[0m\u001b[1;33m(\u001b[0m\u001b[1;34m'enter x2: '\u001b[0m\u001b[1;33m)\u001b[0m\u001b[1;33m)\u001b[0m \u001b[1;31m# takes second initial guess\u001b[0m\u001b[1;33m\u001b[0m\u001b[1;33m\u001b[0m\u001b[0m\n\u001b[0;32m     22\u001b[0m \u001b[1;33m\u001b[0m\u001b[0m\n\u001b[1;32m---> 23\u001b[1;33m \u001b[0mr\u001b[0m\u001b[1;33m,\u001b[0m \u001b[0mn\u001b[0m \u001b[1;33m=\u001b[0m \u001b[0mreg_falsi\u001b[0m\u001b[1;33m(\u001b[0m\u001b[0my\u001b[0m\u001b[1;33m,\u001b[0m\u001b[0mx1\u001b[0m\u001b[1;33m,\u001b[0m\u001b[0mx2\u001b[0m\u001b[1;33m)\u001b[0m\u001b[1;33m\u001b[0m\u001b[1;33m\u001b[0m\u001b[0m\n\u001b[0m\u001b[0;32m     24\u001b[0m \u001b[0mprint\u001b[0m\u001b[1;33m(\u001b[0m\u001b[1;34m'The root = %f at %d false position'\u001b[0m\u001b[1;33m%\u001b[0m\u001b[1;33m(\u001b[0m\u001b[0mr\u001b[0m\u001b[1;33m,\u001b[0m\u001b[0mn\u001b[0m\u001b[1;33m)\u001b[0m\u001b[1;33m)\u001b[0m \u001b[1;31m# prints the required root\u001b[0m\u001b[1;33m\u001b[0m\u001b[1;33m\u001b[0m\u001b[0m\n",
      "\u001b[1;32m~\\AppData\\Local\\Temp/ipykernel_6824/118358493.py\u001b[0m in \u001b[0;36mreg_falsi\u001b[1;34m(f, x1, x2, tol, maxfpos)\u001b[0m\n\u001b[0;32m     14\u001b[0m         \u001b[0mprint\u001b[0m\u001b[1;33m(\u001b[0m\u001b[1;34m'No roots exists within the given interval'\u001b[0m\u001b[1;33m)\u001b[0m \u001b[1;31m# checks the condition, if f(x1) * f(x2) not <0 the it means root does not lie between these initial guesses\u001b[0m\u001b[1;33m\u001b[0m\u001b[1;33m\u001b[0m\u001b[0m\n\u001b[0;32m     15\u001b[0m \u001b[1;33m\u001b[0m\u001b[0m\n\u001b[1;32m---> 16\u001b[1;33m     \u001b[1;32mreturn\u001b[0m \u001b[0mxh\u001b[0m\u001b[1;33m,\u001b[0m \u001b[0mfpos\u001b[0m\u001b[1;33m\u001b[0m\u001b[1;33m\u001b[0m\u001b[0m\n\u001b[0m\u001b[0;32m     17\u001b[0m \u001b[1;33m\u001b[0m\u001b[0m\n\u001b[0;32m     18\u001b[0m \u001b[0my\u001b[0m \u001b[1;33m=\u001b[0m \u001b[1;32mlambda\u001b[0m \u001b[0mx\u001b[0m\u001b[1;33m:\u001b[0m \u001b[1;36m2\u001b[0m\u001b[1;33m*\u001b[0m\u001b[0mx\u001b[0m\u001b[1;33m**\u001b[0m\u001b[1;36m2\u001b[0m \u001b[1;33m-\u001b[0m \u001b[1;36m5\u001b[0m\u001b[1;33m*\u001b[0m\u001b[0mx\u001b[0m \u001b[1;33m+\u001b[0m \u001b[1;36m3\u001b[0m  \u001b[1;31m# given equation\u001b[0m\u001b[1;33m\u001b[0m\u001b[1;33m\u001b[0m\u001b[0m\n",
      "\u001b[1;31mUnboundLocalError\u001b[0m: local variable 'xh' referenced before assignment"
     ]
    }
   ],
   "source": [
    "from math import sin\n",
    "def reg_falsi(f,x1,x2,tol=1.0e-6,maxfpos=100): # definition of regula false method\n",
    "    \n",
    "    if f(x1) * f(x2)<0: # checks the condition f(x1) * f(x2)<0 \n",
    "        for fpos in range(1,maxfpos+1):\n",
    "            xh = x2 - (x2-x1)/(f(x2)-f(x1)) * f(x2)  # extimate the root \n",
    "            if abs(f(xh)) < tol: # (if we meet the desired tollerence then break the loop)\n",
    "                break\n",
    "            elif f(x1) * f(xh) < 0: # (if f(x1)*f(xh)<0 then assign value of xh to x2)\n",
    "                x2 = xh\n",
    "            else:      # (if f(x1) * f(xh) not < 0 then assign value of xh to x1)\n",
    "                x1 = xh\n",
    "    else:\n",
    "        print('No roots exists within the given interval') # checks the condition, if f(x1) * f(x2) not <0 the it means root does not lie between these initial guesses\n",
    "        \n",
    "    return xh, fpos\n",
    "\n",
    "y = lambda x: 2*x**2 - 5*x + 3  # given function\n",
    "\n",
    "x1 = float(input('enter x1: ')) # takes first initial guess\n",
    "x2 = float(input('enter x2: ')) # takes second initial guess\n",
    "\n",
    "r, n = reg_falsi(y,x1,x2)\n",
    "print('The root = %f at %d false position'%(r,n)) # prints the required root"
   ]
  },
  {
   "cell_type": "code",
   "execution_count": 1,
   "id": "05c3d4fa",
   "metadata": {
    "scrolled": true
   },
   "outputs": [
    {
     "name": "stdout",
     "output_type": "stream",
     "text": [
      "enter x1: -2\n",
      "enter x2: 2\n",
      "Root = 1.500000 at 8 iterations\n"
     ]
    }
   ],
   "source": [
    "from math import sin\n",
    "def secant(fn,x1,x2,tol,maxiter): # definition of Secant method\n",
    "    for i in range(maxiter):\n",
    "        xnew  = x2 - (x2-x1)/(fn(x2)-fn(x1))*fn(x2) # extimate the root\n",
    "        if abs(xnew-x2) < tol: # checks the tollenrence\n",
    "            break\n",
    "        else:\n",
    "            x1 = x2   # assigns value of x2 to x1\n",
    "            x2 = xnew # assign the value of estimated root to x2\n",
    "    else:\n",
    "        print('warning: Maximum number of iterations is reached') # if excedes tha maximum number of iteration then this error will appear\n",
    "    return xnew, i # returns the value of estimated root\n",
    "\n",
    "f = lambda x: 2*x**2 - 5*x + 3  # given function\n",
    "\n",
    "x1 = float(input('enter x1: ')) # takes first initial guess\n",
    "x2 = float(input('enter x2: ')) # takes second initial guess\n",
    "\n",
    "r, n = secant(f,x1,x2,1.0e-6,100) # function,takes initial guesses x1 and x2,sets tollerence 10^-6 and perform a\n",
    "print('Root = %f at %d iterations'%(r,n)) # prints the requird root"
   ]
  },
  {
   "cell_type": "code",
   "execution_count": 66,
   "id": "d11614a6",
   "metadata": {},
   "outputs": [
    {
     "data": {
      "text/plain": [
       "Text(0, 0.5, 'y-axis')"
      ]
     },
     "execution_count": 66,
     "metadata": {},
     "output_type": "execute_result"
    },
    {
     "data": {
      "image/png": "[encoded data removed]",
      "text/plain": [
       "<Figure size 432x288 with 1 Axes>"
      ]
     },
     "metadata": {
      "needs_background": "light"
     },
     "output_type": "display_data"
    }
   ],
   "source": [
    "import numpy as np \n",
    "import matplotlib.pyplot as plt\n",
    "x = np.linspace(0,9,20)\n",
    "y= 2*x**2 - 5*x + 3\n",
    "plt.plot(x,y)\n",
    "plt.grid()\n",
    "plt.xlabel('x-axis')\n",
    "plt.ylabel('y-axis')\n",
    "plt.xlabel('x-axis',fontsize=12)\n",
    "plt.ylabel('y-axis',fontsize=12)"
   ]
  },
  {
   "cell_type": "code",
   "execution_count": null,
   "id": "eb373c34",
   "metadata": {},
   "outputs": [],
   "source": []
  }
 ],
 "metadata": {
  "kernelspec": {
   "display_name": "Python 3 (ipykernel)",
   "language": "python",
   "name": "python3"
  },
  "language_info": {
   "codemirror_mode": {
    "name": "ipython",
    "version": 3
   },
   "file_extension": ".py",
   "mimetype": "text/x-python",
   "name": "python",
   "nbconvert_exporter": "python",
   "pygments_lexer": "ipython3",
   "version": "3.9.7"
  }
 },
 "nbformat": 4,
 "nbformat_minor": 5
}
